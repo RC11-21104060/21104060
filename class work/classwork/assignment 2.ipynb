{
 "cells": [
  {
   "cell_type": "markdown",
   "metadata": {},
   "source": [
    "# Exercises 2\n",
    "\n",
    "__Python basics__"
   ]
  },
  {
   "cell_type": "markdown",
   "metadata": {},
   "source": [
    "### Exercise 1 - Padovan sequence\n",
    "write a function that prints the n first numbers of the padovan sequence."
   ]
  },
  {
   "cell_type": "code",
   "execution_count": 16,
   "metadata": {},
   "outputs": [
    {
     "name": "stdout",
     "output_type": "stream",
     "text": [
      "enter n17\n",
      "1\n",
      "1\n",
      "1\n",
      "2\n",
      "2\n",
      "3\n",
      "4\n",
      "5\n",
      "7\n",
      "9\n",
      "12\n",
      "16\n",
      "21\n",
      "28\n",
      "37\n",
      "49\n",
      "65\n"
     ]
    }
   ],
   "source": [
    "number=input(\"enter n\")\n",
    "n = int(number)\n",
    "\n",
    "pa = 1\n",
    "pb = 1\n",
    "pc = 1\n",
    "\n",
    "for i in range(n):\n",
    "    if (i<=2):\n",
    "        pd=1\n",
    "        print(pd)\n",
    "    else:\n",
    "        pd=pa+pb\n",
    "        pa=pb\n",
    "        pb=pc\n",
    "        pc=pd\n",
    "        print(pd)"
   ]
  },
  {
   "cell_type": "markdown",
   "metadata": {},
   "source": [
    "-------"
   ]
  },
  {
   "cell_type": "code",
   "execution_count": 59,
   "metadata": {},
   "outputs": [],
   "source": [
    "asciiArt = \"                   \\  |  /         ___________                       ____________  \\ \\_# /         |  ___      |       _________     |            |  \\  #/          | |   |     |      | = = = = |    | |   |   |  |   \\\\#           | |`v'|     |      |         |    |            |    \\#  //       |  --- ___  |      | |  || | |    | |   |   |  |     #_//        |     |   | |      |         |    |            |  \\\\ #_/_______  |     |   | |      | |  || | |    | |   |   |  |   \\\\# /_____/ \\ |      ---  |      |         |    |            |    \\# |+ ++|  | |  |^^^^^^| |      | |  || | |    |            |    \\# |+ ++|  | |  |^^^^^^| |      | |  || | | ^^^|    (^^^^^) |^^^^^#^| H  |_ |^|  | |||| | |^^^^^^|         |    |    ( ||| ) |     # ^^^^^^    |  | |||| | |      | ||||||| |    ^^^^^^^^^^^^^________/  /_____ |  | |||| | |      | ||||||| |         `v'-                      ^^^^^^^^^^^^^      | ||||||| |          || |`.      (__)    (__)                          ( )                        (oo)    (oo)                       /---V                  /-------\\/      \\/ --------\\             * |  |                 / |     ||        ||_______| \\                                  *  ||W---||        ||      ||  *                                    ^^    ^^        ^^      ^^                        \""
   ]
  },
  {
   "cell_type": "markdown",
   "metadata": {},
   "source": [
    "### Exercise 2 - ASCII Art\n",
    "There's a very long string variable named ```asciiArt```, defined above (don't edit this cell, but do run it first).\n",
    "\n",
    "If you print it on seperate lines, at a certain line length an ascii art scene will appear.\n",
    "\n",
    "hint: answer of exercise 1, n = 17"
   ]
  },
  {
   "cell_type": "code",
   "execution_count": 61,
   "metadata": {},
   "outputs": [
    {
     "name": "stdout",
     "output_type": "stream",
     "text": [
      "                   \\  |  /         ___________                   \n",
      "    ____________  \\ \\_# /         |  ___      |       _________  \n",
      "   |            |  \\  #/          | |   |     |      | = = = = | \n",
      "   | |   |   |  |   \\#           | |`v'|     |      |         |  \n",
      "  |            |    \\#  //       |  --- ___  |      | |  || | |  \n",
      "  | |   |   |  |     #_//        |     |   | |      |         |  \n",
      "  |            |  \\ #_/_______  |     |   | |      | |  || | |   \n",
      " | |   |   |  |   \\# /_____/ \\ |      ---  |      |         |    \n",
      "|            |    \\# |+ ++|  | |  |^^^^^^| |      | |  || | |    \n",
      "|            |    \\# |+ ++|  | |  |^^^^^^| |      | |  || | | ^^^\n",
      "|    (^^^^^) |^^^^^#^| H  |_ |^|  | |||| | |^^^^^^|         |    \n",
      "|    ( ||| ) |     # ^^^^^^    |  | |||| | |      | ||||||| |    \n",
      "^^^^^^^^^^^^^________/  /_____ |  | |||| | |      | ||||||| |    \n",
      "     `v'-                      ^^^^^^^^^^^^^      | ||||||| |    \n",
      "      || |`.      (__)    (__)                          ( )      \n",
      "                  (oo)    (oo)                       /---V       \n",
      "           /-------\\/      \\/ --------\\             * |  |       \n",
      "          / |     ||        ||_______| \\                         \n",
      "         *  ||W---||        ||      ||  *                        \n",
      "            ^^    ^^        ^^      ^^                        \n"
     ]
    }
   ],
   "source": [
    "A=[]\n",
    "\n",
    "for n in range(0,len(asciiArt),65):\n",
    "    \n",
    "    A.append(asciiArt[n:n+65])\n",
    "    \n",
    "for i in A:\n",
    "    print(i)\n"
   ]
  },
  {
   "cell_type": "markdown",
   "metadata": {},
   "source": [
    "### Exercise 3 - christmas tree\n",
    "Write a program using for loops to print a christmas tree of `x` lines high specified by the user. (use for loops)\n",
    "\n",
    "So for instance, a chrismas tree of 4 high should look like this:\n",
    "```\n",
    "    *\n",
    "   ***\n",
    "  *****\n",
    " *******\n",
    "    |\n",
    "```"
   ]
  },
  {
   "cell_type": "code",
   "execution_count": 47,
   "metadata": {},
   "outputs": [
    {
     "name": "stdout",
     "output_type": "stream",
     "text": [
      "     *\n",
      "    ***\n",
      "   *****\n",
      "  *******\n",
      "     |\n"
     ]
    }
   ],
   "source": [
    "height=4\n",
    "stars=1\n",
    "\n",
    "for tree in range(height):\n",
    "    print((' '*(hight-tree)) + ('*'*stars))  \n",
    "    stars +=2\n",
    "print(' '* (height + 1)+\"|\")"
   ]
  }
 ],
 "metadata": {
  "kernelspec": {
   "display_name": "Python 3",
   "language": "python",
   "name": "python3"
  },
  "language_info": {
   "codemirror_mode": {
    "name": "ipython",
    "version": 3
   },
   "file_extension": ".py",
   "mimetype": "text/x-python",
   "name": "python",
   "nbconvert_exporter": "python",
   "pygments_lexer": "ipython3",
   "version": "3.8.8"
  }
 },
 "nbformat": 4,
 "nbformat_minor": 2
}
