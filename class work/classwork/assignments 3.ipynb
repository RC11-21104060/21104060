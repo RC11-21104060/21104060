{
 "cells": [
  {
   "cell_type": "markdown",
   "id": "86896763",
   "metadata": {},
   "source": [
    "## Exercises - Complexity\n",
    "### Exercise 1.\n",
    "Suppose we have a computer which can perform 1 million (= $10^6$) operations per second.\n",
    "\n",
    "The formulas below denote the running time of some algorithms (in number of operations) depending on the number of elements $n$ we feed to the algorithm. Determine for each algorithm how many elements can be processed in 1 minute.\n",
    "\n",
    "1.$n$\n",
    "\n",
    "2.$n^2$\n",
    "\n",
    "3.$n^3$\n",
    "\n",
    "4.$n!$ (This is called n factorial)\n",
    "\n",
    "5.$n*lg(n)$\n",
    "\n",
    "6.$2^n$\n",
    "\n",
    "7.$\\sqrt n$\n",
    "\n",
    "8.$n^{50}$\n"
   ]
  },
  {
   "cell_type": "markdown",
   "id": "79fa91c0",
   "metadata": {},
   "source": [
    "answer here\n",
    "\n",
    "\n",
    "1.$6$*$10^7$\n",
    "\n",
    "2.$2$*$10^3$$\\sqrt15$\n",
    "\n",
    "3.$10^2$*$\\sqrt[3]60$"
   ]
  },
  {
   "cell_type": "code",
   "execution_count": 12,
   "id": "5acc1514",
   "metadata": {},
   "outputs": [
    {
     "name": "stdout",
     "output_type": "stream",
     "text": [
      "39916800.0\n"
     ]
    }
   ],
   "source": [
    "4.\n",
    "n=1\n",
    "b=1\n",
    "while b < (6*1e+7):\n",
    "    b=b*n \n",
    "    n=n+1\n",
    "b=b/(n-1)\n",
    "\n",
    "print(b)"
   ]
  },
  {
   "cell_type": "markdown",
   "id": "10aa688d",
   "metadata": {},
   "source": [
    "5.\n",
    "\n",
    "6.$25$\n",
    "\n",
    "7.$36$*$10^{14}$\n",
    "\n",
    "8.$1$\n"
   ]
  },
  {
   "cell_type": "markdown",
   "id": "cad3d28d",
   "metadata": {},
   "source": [
    "### Exercise 2.\n",
    "Sort the functions below following $O(.)$\n",
    "\n",
    "$n$\n",
    "$10^6 - n^3 + 3n^5$\n",
    "$2^n$\n",
    "$n^2$\n",
    "$n*lg(n)$\n",
    "$\\sqrt n$\n",
    "$n!$\n",
    "\n",
    "answer here"
   ]
  },
  {
   "cell_type": "markdown",
   "id": "e73da5fa",
   "metadata": {},
   "source": [
    "$n!$>$10^6 - n^3 + 3n^5$>$2^n$>$n^2$>$n*lg(n)$>n>$\\sqrt n$"
   ]
  },
  {
   "cell_type": "markdown",
   "id": "4c0dd106",
   "metadata": {},
   "source": [
    "### Exercise 3.\n",
    "\n",
    "In mathematics, a factorial of a positive integer $n$ is denoted by $n!$. This is the product of all positive integers less than or equal to $n$. This can be given by the following set of equations:\n",
    "\n",
    "$n! = n * (n-1)!$\n",
    "\n",
    "$0! = 1$\n",
    "\n",
    "write a recursive function (so a function that calls itself within its definition) that returns the factorial of a number $n$"
   ]
  },
  {
   "cell_type": "code",
   "execution_count": 9,
   "id": "c82fd7af",
   "metadata": {},
   "outputs": [
    {
     "name": "stdout",
     "output_type": "stream",
     "text": [
      "518918400\n"
     ]
    }
   ],
   "source": [
    "if n == 0:\n",
    "    print(1)\n",
    "else:\n",
    "    for i in range(1,n-1):\n",
    "        n = n*i\n",
    "\n",
    "print(n)"
   ]
  },
  {
   "cell_type": "markdown",
   "id": "5b1dac4c",
   "metadata": {},
   "source": [
    "Now comment on what you think the order complexity ofthe function is.\n",
    "\n",
    "answer here"
   ]
  },
  {
   "cell_type": "markdown",
   "id": "af81f845",
   "metadata": {},
   "source": [
    "### Exercise 6.\n",
    "\n",
    "Give the complexity in $O(.)$ of the following (dummy) algorithms, and explain why."
   ]
  },
  {
   "cell_type": "code",
   "execution_count": 13,
   "id": "e0833fce",
   "metadata": {},
   "outputs": [],
   "source": [
    "def algorithm1(n):\n",
    "    s = 0\n",
    "    i = 0\n",
    "    while i<n:\n",
    "        s += 1\n",
    "        i += 1\n",
    "    return(s,i)"
   ]
  },
  {
   "cell_type": "markdown",
   "id": "05b21259",
   "metadata": {},
   "source": [
    "$O(.)=n$"
   ]
  },
  {
   "cell_type": "code",
   "execution_count": null,
   "id": "eb1063d0",
   "metadata": {},
   "outputs": [],
   "source": [
    "def algorithm2(n):\n",
    "    s = 0\n",
    "    i = 0\n",
    "    while i<n:\n",
    "        j = 0\n",
    "        while j<n:\n",
    "            s += 1\n",
    "            j += 1\n",
    "        i += 1\n",
    "    return(s,i,j)"
   ]
  },
  {
   "cell_type": "markdown",
   "id": "79730f48",
   "metadata": {},
   "source": [
    "$O(.)=n^2$"
   ]
  },
  {
   "cell_type": "code",
   "execution_count": null,
   "id": "3d91a4c4",
   "metadata": {},
   "outputs": [],
   "source": [
    "def algorithm3(n):\n",
    "    s = 0\n",
    "    i = 0\n",
    "    while i<n:\n",
    "        j = 0\n",
    "        while j<n*n:\n",
    "            s += 1\n",
    "            j += 1\n",
    "        i += 1\n",
    "    return(s,i,j)"
   ]
  },
  {
   "cell_type": "markdown",
   "id": "2ad7c274",
   "metadata": {},
   "source": [
    "$O(.)=n^3$"
   ]
  }
 ],
 "metadata": {
  "kernelspec": {
   "display_name": "Python 3",
   "language": "python",
   "name": "python3"
  },
  "language_info": {
   "codemirror_mode": {
    "name": "ipython",
    "version": 3
   },
   "file_extension": ".py",
   "mimetype": "text/x-python",
   "name": "python",
   "nbconvert_exporter": "python",
   "pygments_lexer": "ipython3",
   "version": "3.8.8"
  }
 },
 "nbformat": 4,
 "nbformat_minor": 5
}
